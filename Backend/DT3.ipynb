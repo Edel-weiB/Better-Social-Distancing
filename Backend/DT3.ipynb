{
 "cells": [
  {
   "cell_type": "code",
   "execution_count": 20,
   "metadata": {},
   "outputs": [],
   "source": [
    "import matplotlib.pyplot as plt\n",
    "%matplotlib inline\n",
    "import numpy as np\n",
    "from numpy.random import normal,rand\n",
    "import seaborn as sns"
   ]
  },
  {
   "cell_type": "code",
   "execution_count": 21,
   "metadata": {},
   "outputs": [
    {
     "data": {
      "text/plain": [
       "'1.0.5'"
      ]
     },
     "execution_count": 21,
     "metadata": {},
     "output_type": "execute_result"
    }
   ],
   "source": [
    "pd.__version__"
   ]
  },
  {
   "cell_type": "code",
   "execution_count": 22,
   "metadata": {},
   "outputs": [
    {
     "data": {
      "text/html": [
       "<div>\n",
       "<style scoped>\n",
       "    .dataframe tbody tr th:only-of-type {\n",
       "        vertical-align: middle;\n",
       "    }\n",
       "\n",
       "    .dataframe tbody tr th {\n",
       "        vertical-align: top;\n",
       "    }\n",
       "\n",
       "    .dataframe thead th {\n",
       "        text-align: right;\n",
       "    }\n",
       "</style>\n",
       "<table border=\"1\" class=\"dataframe\">\n",
       "  <thead>\n",
       "    <tr style=\"text-align: right;\">\n",
       "      <th></th>\n",
       "      <th>Name</th>\n",
       "      <th>Email</th>\n",
       "      <th>Phone</th>\n",
       "      <th>Date</th>\n",
       "      <th>Time</th>\n",
       "    </tr>\n",
       "  </thead>\n",
       "  <tbody>\n",
       "    <tr>\n",
       "      <th>0</th>\n",
       "      <td>Chancellor</td>\n",
       "      <td>adipiscing.elit@nisinibh.edu</td>\n",
       "      <td>+65 4688-4545</td>\n",
       "      <td>2020-05-24</td>\n",
       "      <td>2020-05-24 00:00:00</td>\n",
       "    </tr>\n",
       "    <tr>\n",
       "      <th>1</th>\n",
       "      <td>Briar</td>\n",
       "      <td>et.magnis@amagnaLorem.edu</td>\n",
       "      <td>+65 9777-6857</td>\n",
       "      <td>2020-02-22</td>\n",
       "      <td>2020-05-24 01:00:00</td>\n",
       "    </tr>\n",
       "    <tr>\n",
       "      <th>2</th>\n",
       "      <td>Amaya</td>\n",
       "      <td>diam.Proin.dolor@Cras.net</td>\n",
       "      <td>+65 6737-7649</td>\n",
       "      <td>2020-03-13</td>\n",
       "      <td>2020-05-24 02:00:00</td>\n",
       "    </tr>\n",
       "    <tr>\n",
       "      <th>3</th>\n",
       "      <td>Ima</td>\n",
       "      <td>Donec.fringilla.Donec@cursusvestibulumMauris.c...</td>\n",
       "      <td>+65 5373-7595</td>\n",
       "      <td>2020-01-13</td>\n",
       "      <td>2020-05-24 03:00:00</td>\n",
       "    </tr>\n",
       "    <tr>\n",
       "      <th>4</th>\n",
       "      <td>Cheryl</td>\n",
       "      <td>sit.amet@maurissit.net</td>\n",
       "      <td>+65 4924-7482</td>\n",
       "      <td>2020-04-09</td>\n",
       "      <td>2020-05-24 04:00:00</td>\n",
       "    </tr>\n",
       "    <tr>\n",
       "      <th>...</th>\n",
       "      <td>...</td>\n",
       "      <td>...</td>\n",
       "      <td>...</td>\n",
       "      <td>...</td>\n",
       "      <td>...</td>\n",
       "    </tr>\n",
       "    <tr>\n",
       "      <th>95</th>\n",
       "      <td>Cheyenne</td>\n",
       "      <td>neque.sed@sit.com</td>\n",
       "      <td>+65 5181-7864</td>\n",
       "      <td>2020-01-08</td>\n",
       "      <td>2020-05-27 23:00:00</td>\n",
       "    </tr>\n",
       "    <tr>\n",
       "      <th>96</th>\n",
       "      <td>Medge</td>\n",
       "      <td>augue.scelerisque.mollis@sapienNuncpulvinar.net</td>\n",
       "      <td>+65 8743-6577</td>\n",
       "      <td>2020-09-23</td>\n",
       "      <td>2020-05-28 00:00:00</td>\n",
       "    </tr>\n",
       "    <tr>\n",
       "      <th>97</th>\n",
       "      <td>Wilma</td>\n",
       "      <td>nonummy.Fusce@senectuset.ca</td>\n",
       "      <td>+65 1816-6843</td>\n",
       "      <td>2020-02-23</td>\n",
       "      <td>2020-05-28 01:00:00</td>\n",
       "    </tr>\n",
       "    <tr>\n",
       "      <th>98</th>\n",
       "      <td>Lawrence</td>\n",
       "      <td>erat.Etiam.vestibulum@nuncsitamet.ca</td>\n",
       "      <td>+65 7952-2911</td>\n",
       "      <td>2020-09-17</td>\n",
       "      <td>2020-05-28 02:00:00</td>\n",
       "    </tr>\n",
       "    <tr>\n",
       "      <th>99</th>\n",
       "      <td>John</td>\n",
       "      <td>quis@necdiamDuis.edu</td>\n",
       "      <td>+65 1699-4987</td>\n",
       "      <td>2020-07-22</td>\n",
       "      <td>2020-05-28 03:00:00</td>\n",
       "    </tr>\n",
       "  </tbody>\n",
       "</table>\n",
       "<p>100 rows × 5 columns</p>\n",
       "</div>"
      ],
      "text/plain": [
       "          Name                                              Email  \\\n",
       "0   Chancellor                       adipiscing.elit@nisinibh.edu   \n",
       "1        Briar                          et.magnis@amagnaLorem.edu   \n",
       "2        Amaya                          diam.Proin.dolor@Cras.net   \n",
       "3          Ima  Donec.fringilla.Donec@cursusvestibulumMauris.c...   \n",
       "4       Cheryl                             sit.amet@maurissit.net   \n",
       "..         ...                                                ...   \n",
       "95    Cheyenne                                  neque.sed@sit.com   \n",
       "96       Medge    augue.scelerisque.mollis@sapienNuncpulvinar.net   \n",
       "97       Wilma                        nonummy.Fusce@senectuset.ca   \n",
       "98    Lawrence               erat.Etiam.vestibulum@nuncsitamet.ca   \n",
       "99        John                               quis@necdiamDuis.edu   \n",
       "\n",
       "            Phone       Date                Time  \n",
       "0   +65 4688-4545 2020-05-24 2020-05-24 00:00:00  \n",
       "1   +65 9777-6857 2020-02-22 2020-05-24 01:00:00  \n",
       "2   +65 6737-7649 2020-03-13 2020-05-24 02:00:00  \n",
       "3   +65 5373-7595 2020-01-13 2020-05-24 03:00:00  \n",
       "4   +65 4924-7482 2020-04-09 2020-05-24 04:00:00  \n",
       "..            ...        ...                 ...  \n",
       "95  +65 5181-7864 2020-01-08 2020-05-27 23:00:00  \n",
       "96  +65 8743-6577 2020-09-23 2020-05-28 00:00:00  \n",
       "97  +65 1816-6843 2020-02-23 2020-05-28 01:00:00  \n",
       "98  +65 7952-2911 2020-09-17 2020-05-28 02:00:00  \n",
       "99  +65 1699-4987 2020-07-22 2020-05-28 03:00:00  \n",
       "\n",
       "[100 rows x 5 columns]"
      ]
     },
     "execution_count": 22,
     "metadata": {},
     "output_type": "execute_result"
    }
   ],
   "source": [
    "pd.read_excel('Dummydata.xlsx')"
   ]
  },
  {
   "cell_type": "code",
   "execution_count": null,
   "metadata": {},
   "outputs": [],
   "source": [
    "data = pd.Excelfile(r\"Desktop\\Dummydata.xlsx\")"
   ]
  },
  {
   "cell_type": "code",
   "execution_count": 24,
   "metadata": {},
   "outputs": [
    {
     "data": {
      "image/png": "[encoded data removed]",
      "text/plain": [
       "<Figure size 432x288 with 2 Axes>"
      ]
     },
     "metadata": {},
     "output_type": "display_data"
    }
   ],
   "source": [
    "import numpy as np; np.random.seed(0)\n",
    "import seaborn as sns; sns.set()\n",
    "uniform_data = np.random.rand(10, 12)\n",
    "ax = sns.heatmap(uniform_data)"
   ]
  },
  {
   "cell_type": "code",
   "execution_count": 33,
   "metadata": {},
   "outputs": [
    {
     "data": {
      "image/png": "[encoded data removed]",
      "text/plain": [
       "<Figure size 432x288 with 2 Axes>"
      ]
     },
     "metadata": {},
     "output_type": "display_data"
    }
   ],
   "source": [
    "ax = sns.heatmap(uniform_data, vmin=0, vmax=1)"
   ]
  },
  {
   "cell_type": "code",
   "execution_count": null,
   "metadata": {},
   "outputs": [],
   "source": []
  }
 ],
 "metadata": {
  "kernelspec": {
   "display_name": "Python 3",
   "language": "python",
   "name": "python3"
  },
  "language_info": {
   "codemirror_mode": {
    "name": "ipython",
    "version": 3
   },
   "file_extension": ".py",
   "mimetype": "text/x-python",
   "name": "python",
   "nbconvert_exporter": "python",
   "pygments_lexer": "ipython3",
   "version": "3.8.3"
  }
 },
 "nbformat": 4,
 "nbformat_minor": 4
}
